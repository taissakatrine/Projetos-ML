{
  "nbformat": 4,
  "nbformat_minor": 0,
  "metadata": {
    "colab": {
      "provenance": [],
      "authorship_tag": "ABX9TyMAG7qr1wmDAjraGGJ9DKlx",
      "include_colab_link": true
    },
    "kernelspec": {
      "name": "python3",
      "display_name": "Python 3"
    },
    "language_info": {
      "name": "python"
    }
  },
  "cells": [
    {
      "cell_type": "markdown",
      "metadata": {
        "id": "view-in-github",
        "colab_type": "text"
      },
      "source": [
        "<a href=\"https://colab.research.google.com/github/taissakatrine/Projetos-ML/blob/main/CalculoMetricas.ipynb\" target=\"_parent\"><img src=\"https://colab.research.google.com/assets/colab-badge.svg\" alt=\"Open In Colab\"/></a>"
      ]
    },
    {
      "cell_type": "code",
      "execution_count": 1,
      "metadata": {
        "id": "yIHN151CFn07"
      },
      "outputs": [],
      "source": [
        "# Definindo a matriz de confusão\n",
        "VP = 50  # Verdadeiros Positivos\n",
        "VN = 35  # Verdadeiros Negativos\n",
        "FP = 5   # Falsos Positivos\n",
        "FN = 10  # Falsos Negativos"
      ]
    },
    {
      "cell_type": "code",
      "source": [
        "# Calculando as métricas\n",
        "sensibilidade = VP / (VP + FN)\n",
        "especificidade = VN / (FP + VN)\n",
        "acurácia = (VP + VN) / (VP + VN + FP + FN)\n",
        "precisão = VP / (VP + FP)\n",
        "f_score = 2 * (precisão * sensibilidade) / (precisão + sensibilidade)"
      ],
      "metadata": {
        "id": "eYfZnagLGtNi"
      },
      "execution_count": 2,
      "outputs": []
    },
    {
      "cell_type": "code",
      "source": [
        "# Exibindo os resultados\n",
        "print(f\"Sensibilidade (Recall): {sensibilidade:.3f}\")\n",
        "print(f\"Especificidade: {especificidade:.3f}\")\n",
        "print(f\"Acurácia: {acurácia:.3f}\")\n",
        "print(f\"Precisão: {precisão:.3f}\")\n",
        "print(f\"F-score: {f_score:.3f}\")"
      ],
      "metadata": {
        "colab": {
          "base_uri": "https://localhost:8080/"
        },
        "id": "YHdO1eWEHBnz",
        "outputId": "0f727e40-eafb-41cd-ffe5-257d14896e08"
      },
      "execution_count": 3,
      "outputs": [
        {
          "output_type": "stream",
          "name": "stdout",
          "text": [
            "Sensibilidade (Recall): 0.833\n",
            "Especificidade: 0.875\n",
            "Acurácia: 0.850\n",
            "Precisão: 0.909\n",
            "F-score: 0.870\n"
          ]
        }
      ]
    }
  ]
}